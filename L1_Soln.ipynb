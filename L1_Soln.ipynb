{
 "cells": [
  {
   "cell_type": "markdown",
   "metadata": {},
   "source": [
    "### <p style=\"text-align: center;\"> **Name:** Shahzaib Khan &ensp;&ensp;&ensp;&ensp;&ensp;&ensp; **Roll No:** 19K-0273 &ensp;&ensp;&ensp;&ensp;&ensp;&ensp; **Section:** BCS-8B</p>"
   ]
  },
  {
   "cell_type": "markdown",
   "metadata": {},
   "source": [
    "### **_Task 2_**"
   ]
  },
  {
   "cell_type": "code",
   "execution_count": 1,
   "metadata": {},
   "outputs": [
    {
     "name": "stdout",
     "output_type": "stream",
     "text": [
      "Inputs:\n",
      "a = -2 , b = 1 , c = 1\n",
      "\n",
      "Discriminant:\n",
      "D = 9 \n",
      "\n",
      "Roots:\n",
      "x1 =-0.5000, x2 =1.0000\n"
     ]
    }
   ],
   "source": [
    "import math as m\n",
    "\n",
    "a = int(input(\"a = \"))\n",
    "b = int(input(\"b = \"))\n",
    "c = int(input(\"c = \"))\n",
    "print(\"Inputs:\\na =\", a, \", b =\", b, \", c =\", c)\n",
    "\n",
    "D = (b**2) - (4*a*c)\n",
    "print(\"\\nDiscriminant:\\nD =\", D, \"\\n\\nRoots:\")\n",
    "\n",
    "if D > 0:\n",
    "    x1 = (b*(-1) + m.sqrt(D)) / (2*a)\n",
    "    x2 = (b*(-1) - m.sqrt(D)) / (2*a)\n",
    "    print(\"x1 ={:.4f}, x2 ={:.4f}\".format(x1,x2))\n",
    "elif D == 0:\n",
    "    x = ((-1)*b)/(2*a)\n",
    "    print(\"x ={:.4f}\".format(x))\n",
    "else:\n",
    "    print(\"Complex Roots!\")"
   ]
  },
  {
   "cell_type": "markdown",
   "metadata": {},
   "source": [
    "### **_Task 3_**"
   ]
  },
  {
   "cell_type": "code",
   "execution_count": 2,
   "metadata": {},
   "outputs": [
    {
     "name": "stdout",
     "output_type": "stream",
     "text": [
      "smaller(x, 9, 21) returns 4 ['13<21', '20<21', '12<21', '6<21']\n",
      "smaller(x, 9, 20) returns 3 ['13<20', '12<20', '6<20']\n"
     ]
    }
   ],
   "source": [
    "def smaller(x, s, n): # required solution\n",
    "    count = 0\n",
    "    for i in range(s):\n",
    "        if x[i] < n:\n",
    "            count += 1\n",
    "    return count\n",
    "\n",
    "def _smaller(x, s, n): # extra (provides debugging output)\n",
    "    count = 0\n",
    "    output=[]\n",
    "    for i in range(s):\n",
    "        if x[i] < n:\n",
    "            count += 1\n",
    "            output.append(str(x[i]) + \"<\" + str(n))\n",
    "    return count, output # return as tuple\n",
    "\n",
    "def displayResult(x, n):\n",
    "    print(\"smaller(x, {}, {}) returns {} {}\".format(len(x), n, *_smaller(x, len(x), n))) # direct tuple unpacking with * \n",
    "    return\n",
    "\n",
    "x = [13, 56, 21, 45, 20, 43, 12, 43, 6]\n",
    "\n",
    "displayResult(x, 21) # OR smaller(x, len(x), 21)\n",
    "displayResult(x, 20) # OR smaller(x, len(x), 20)"
   ]
  },
  {
   "cell_type": "markdown",
   "metadata": {},
   "source": [
    "### **_Task 4_**"
   ]
  },
  {
   "cell_type": "code",
   "execution_count": 3,
   "metadata": {},
   "outputs": [
    {
     "name": "stdout",
     "output_type": "stream",
     "text": [
      "Before:-\n",
      "Original List:  [12, 24, 35, 24, 88, 120, 155, 88, 120, 155] \n",
      "\n",
      "After:-\n",
      "No Preserved Order:  [35, 12, 155, 24, 88, 120]\n",
      "With Preserved Order:  [12, 24, 35, 88, 120, 155]\n"
     ]
    }
   ],
   "source": [
    "L = [12, 24, 35, 24, 88, 120, 155, 88, 120, 155] # list\n",
    "\n",
    "print(\"Before:-\\nOriginal List: \", L, \"\\n\\nAfter:-\")\n",
    "\n",
    "print(\"No Preserved Order: \", [*set(L)]) # OR set(L)\n",
    "\n",
    "print(\"With Preserved Order: \", [*dict.fromkeys(L)]) # OR list(dict.fromkeys(L))\n"
   ]
  },
  {
   "cell_type": "markdown",
   "metadata": {},
   "source": [
    "### **_Task 5_**"
   ]
  },
  {
   "cell_type": "code",
   "execution_count": 4,
   "metadata": {},
   "outputs": [
    {
     "name": "stdout",
     "output_type": "stream",
     "text": [
      "list of common elements:  [35]\n"
     ]
    }
   ],
   "source": [
    "l1 = [1, 3, 6, 78, 35, 55]\n",
    "l2 = [12, 24, 35, 24, 88, 120, 155]\n",
    "\n",
    "l3 = [*set(l1) & set(l2)] # OR list(set(l1).intersection(set(l2)))\n",
    "\n",
    "print(\"list of common elements: \", l3)"
   ]
  },
  {
   "cell_type": "markdown",
   "metadata": {},
   "source": [
    "### **_Task 6_**"
   ]
  },
  {
   "cell_type": "code",
   "execution_count": 5,
   "metadata": {},
   "outputs": [
    {
     "name": "stdout",
     "output_type": "stream",
     "text": [
      "\n",
      "Inputs: Weight =10.0, Height =7.8\n",
      "\n",
      "Result: BMI =  0.1643655489809336\n"
     ]
    }
   ],
   "source": [
    "weight = float(input(\"Weight = \"))\n",
    "height = float(input(\"Height = \"))\n",
    "\n",
    "print(f\"\\nInputs: Weight ={weight}, Height ={height}\") # formatted string literal\n",
    "print(\"\\nResult: BMI = \", weight/(height**2))"
   ]
  },
  {
   "cell_type": "markdown",
   "metadata": {},
   "source": [
    "### **_Task 7_**"
   ]
  },
  {
   "cell_type": "code",
   "execution_count": 6,
   "metadata": {},
   "outputs": [
    {
     "name": "stdout",
     "output_type": "stream",
     "text": [
      "Yearly Sales = 200000 [Input]\n",
      "Sales Value after 7 years: 1820000.0 [Output]\n"
     ]
    }
   ],
   "source": [
    "growth_multiplier = 1.3\n",
    "sales = int(input(\"Yearly Sales = \"))\n",
    "\n",
    "print(f\"Yearly Sales = {sales} [Input]\")\n",
    "print(f\"Sales Value after 7 years: {growth_multiplier * sales * 7} [Output]\")"
   ]
  },
  {
   "cell_type": "markdown",
   "metadata": {},
   "source": [
    "### **_Task 8_**"
   ]
  },
  {
   "cell_type": "code",
   "execution_count": 7,
   "metadata": {},
   "outputs": [
    {
     "name": "stdout",
     "output_type": "stream",
     "text": [
      "Mkg = 300.3 [Input]\n",
      "Mstone = 47.190 [Output]\n"
     ]
    }
   ],
   "source": [
    "Mkg = float(input(\"Mkg = \"))\n",
    "Mstone = (Mkg * 2.2) / 14\n",
    "\n",
    "print(f\"Mkg = {Mkg} [Input]\")\n",
    "print(f\"Mstone = {Mstone:.3f}\", \"[Output]\")"
   ]
  },
  {
   "cell_type": "markdown",
   "metadata": {},
   "source": [
    "### **_Task 9_**"
   ]
  },
  {
   "cell_type": "code",
   "execution_count": 8,
   "metadata": {},
   "outputs": [
    {
     "name": "stdout",
     "output_type": "stream",
     "text": [
      "list of rooms (with area): ['hall 11.3', 'kitchen 6', 'bedroom 12.5']\n"
     ]
    }
   ],
   "source": [
    "rooms = [] # list\n",
    "\n",
    "rooms.append(\"hall 11.3\")\n",
    "rooms.append(\"kitchen 6\")\n",
    "rooms.append(\"bedroom 12.5\")\n",
    "\n",
    "print(\"list of rooms (with area):\" , rooms)"
   ]
  },
  {
   "cell_type": "markdown",
   "metadata": {},
   "source": [
    "### **_Task 10_**"
   ]
  },
  {
   "cell_type": "code",
   "execution_count": 9,
   "metadata": {},
   "outputs": [
    {
     "name": "stdout",
     "output_type": "stream",
     "text": [
      "Name:\tSemester-Scores:\n",
      "Ali     [1.87, 2, 3, 3.33, 4, 3.79]\n",
      "Ahmed   [3, 2.8, 3, 3.4, 2.23, 1.88]\n",
      "Akbar   [4, 3.88, 3, 3.9, 3.6, 3.1]\n"
     ]
    }
   ],
   "source": [
    "score_1 = [1.87, 2, 3, 3.33, 4, 3.79]\n",
    "score_2 = [3, 2.8,3, 3.4, 2.23, 1.88]\n",
    "score_3 = [4, 3.88, 3, 3.9, 3.6, 3.1]\n",
    "\n",
    "students = [\n",
    "                [\"Ali  \", score_1],\n",
    "                [\"Ahmed\", score_2],\n",
    "                [\"Akbar\", score_3]\n",
    "            ]\n",
    "\n",
    "print(\"Name:\\tSemester-Scores:\")\n",
    "for iter in students:\n",
    "    print(iter[0], ' ', iter[1])"
   ]
  }
 ],
 "metadata": {
  "kernelspec": {
   "display_name": "Python 3 (ipykernel)",
   "language": "python",
   "name": "python3"
  },
  "language_info": {
   "codemirror_mode": {
    "name": "ipython",
    "version": 3
   },
   "file_extension": ".py",
   "mimetype": "text/x-python",
   "name": "python",
   "nbconvert_exporter": "python",
   "pygments_lexer": "ipython3",
   "version": "3.12.1"
  }
 },
 "nbformat": 4,
 "nbformat_minor": 2
}
